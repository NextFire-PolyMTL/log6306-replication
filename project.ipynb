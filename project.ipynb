{
 "cells": [
  {
   "attachments": {},
   "cell_type": "markdown",
   "metadata": {},
   "source": [
    "# log6306-replication"
   ]
  },
  {
   "attachments": {},
   "cell_type": "markdown",
   "metadata": {},
   "source": [
    "## Data collection"
   ]
  },
  {
   "cell_type": "code",
   "execution_count": 2,
   "metadata": {},
   "outputs": [],
   "source": [
    "import os\n",
    "import re\n",
    "import shutil\n",
    "import subprocess\n",
    "from contextlib import suppress\n",
    "from pathlib import Path\n",
    "\n",
    "from pydriller import Repository"
   ]
  },
  {
   "cell_type": "code",
   "execution_count": 7,
   "metadata": {},
   "outputs": [],
   "source": [
    "PROJECT_DIR = Path('./projects/')\n",
    "COMMITS_DIR = Path('./commits/')\n",
    "\n",
    "MSG_MATCH_RE = re.compile(r'refactor', re.IGNORECASE)\n",
    "FILES_MATCH_RE = re.compile(r'Dockerfile|docker-compose', re.IGNORECASE)\n",
    "\n",
    "# Cleanup\n",
    "with suppress(Exception):\n",
    "    shutil.rmtree(COMMITS_DIR)\n",
    "os.mkdir(COMMITS_DIR)\n",
    "\n",
    "for project in PROJECT_DIR.iterdir():\n",
    "    if project.is_dir():\n",
    "        # Output project directory\n",
    "        diff_dir = COMMITS_DIR / project.name\n",
    "        os.mkdir(diff_dir)\n",
    "        commits = []\n",
    "        for commit in Repository(project.as_posix()).traverse_commits():\n",
    "            # Check commit message\n",
    "            if MSG_MATCH_RE.search(commit.msg):\n",
    "                # Check modified files\n",
    "                git_diff_tree = subprocess.run(\n",
    "                    ['git', 'diff-tree', '--no-commit-id',\n",
    "                        '--name-only', '-r', '-m', commit.hash],\n",
    "                    cwd=project.as_posix(),\n",
    "                    capture_output=True)\n",
    "                git_diff_tree_stdout = git_diff_tree.stdout.decode()\n",
    "                if any(FILES_MATCH_RE.search(f) for f in git_diff_tree_stdout.splitlines()):\n",
    "                    # Save diff\n",
    "                    os.system(f'GIT_DIR={project.as_posix()}/.git '\n",
    "                              f'git show -m -l 2000 {commit.hash} > {diff_dir / commit.hash}.diff')\n",
    "                    # If the commit is a merge commit, remove children (which are already in the parent)\n",
    "                    with open(f\"{diff_dir / commit.hash}.diff\", 'r') as f:\n",
    "                        for prev_commits in commits:\n",
    "                            if prev_commits.hash in f.read():\n",
    "                                os.remove(\n",
    "                                    f\"{diff_dir / prev_commits.hash}.diff\")\n",
    "                    commits.append(commit)\n"
   ]
  },
  {
   "cell_type": "code",
   "execution_count": null,
   "metadata": {},
   "outputs": [],
   "source": []
  }
 ],
 "metadata": {
  "kernelspec": {
   "display_name": ".venv",
   "language": "python",
   "name": "python3"
  },
  "language_info": {
   "codemirror_mode": {
    "name": "ipython",
    "version": 3
   },
   "file_extension": ".py",
   "mimetype": "text/x-python",
   "name": "python",
   "nbconvert_exporter": "python",
   "pygments_lexer": "ipython3",
   "version": "3.11.2"
  },
  "orig_nbformat": 4
 },
 "nbformat": 4,
 "nbformat_minor": 2
}
